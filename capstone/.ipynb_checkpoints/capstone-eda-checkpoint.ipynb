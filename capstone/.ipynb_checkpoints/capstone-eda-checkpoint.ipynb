{
 "cells": [
  {
   "cell_type": "code",
   "execution_count": 8,
   "metadata": {},
   "outputs": [
    {
     "data": {
      "text/html": [
       "<div>\n",
       "<style scoped>\n",
       "    .dataframe tbody tr th:only-of-type {\n",
       "        vertical-align: middle;\n",
       "    }\n",
       "\n",
       "    .dataframe tbody tr th {\n",
       "        vertical-align: top;\n",
       "    }\n",
       "\n",
       "    .dataframe thead th {\n",
       "        text-align: right;\n",
       "    }\n",
       "</style>\n",
       "<table border=\"1\" class=\"dataframe\">\n",
       "  <thead>\n",
       "    <tr style=\"text-align: right;\">\n",
       "      <th></th>\n",
       "      <th>Item</th>\n",
       "      <th>Availability</th>\n",
       "      <th>ASIN</th>\n",
       "      <th>Price</th>\n",
       "      <th>Brand</th>\n",
       "      <th>Title</th>\n",
       "      <th>LeafCat</th>\n",
       "      <th>FullCat</th>\n",
       "    </tr>\n",
       "  </thead>\n",
       "  <tbody>\n",
       "    <tr>\n",
       "      <th>0</th>\n",
       "      <td>24</td>\n",
       "      <td>0.475237</td>\n",
       "      <td>B00004Z498</td>\n",
       "      <td>3.62</td>\n",
       "      <td>Scotch</td>\n",
       "      <td>3M Scotch Mounting Tape, .5-Inch by 75-Inch (110)</td>\n",
       "      <td>Mounting Tape</td>\n",
       "      <td>Office Products/Office &amp; School Supplies/Tape,...</td>\n",
       "    </tr>\n",
       "    <tr>\n",
       "      <th>1</th>\n",
       "      <td>30</td>\n",
       "      <td>0.543847</td>\n",
       "      <td>B00004Z5QO</td>\n",
       "      <td>8.16</td>\n",
       "      <td>Avery</td>\n",
       "      <td>Avery Easy Peel Return Address Labels for Inkj...</td>\n",
       "      <td>Printer Labels: Laser &amp; Inkjet</td>\n",
       "      <td>Office Products/Office &amp; School Supplies/Label...</td>\n",
       "    </tr>\n",
       "    <tr>\n",
       "      <th>2</th>\n",
       "      <td>35</td>\n",
       "      <td>0.336081</td>\n",
       "      <td>B00004Z5SN</td>\n",
       "      <td>8.22</td>\n",
       "      <td>Avery</td>\n",
       "      <td>Avery Easy Peel Address Labels for Laser Print...</td>\n",
       "      <td>Address Labels</td>\n",
       "      <td>Office Products/Office &amp; School Supplies/Label...</td>\n",
       "    </tr>\n",
       "    <tr>\n",
       "      <th>3</th>\n",
       "      <td>41</td>\n",
       "      <td>0.564493</td>\n",
       "      <td>B00004Z69W</td>\n",
       "      <td>15.96</td>\n",
       "      <td>Avery</td>\n",
       "      <td>Avery Easy Peel Address Labels for Inkjet Prin...</td>\n",
       "      <td>Address Labels</td>\n",
       "      <td>Office Products/Office &amp; School Supplies/Label...</td>\n",
       "    </tr>\n",
       "    <tr>\n",
       "      <th>4</th>\n",
       "      <td>45</td>\n",
       "      <td>0.908922</td>\n",
       "      <td>B0000538AC</td>\n",
       "      <td>4.39</td>\n",
       "      <td>Scotch</td>\n",
       "      <td>Scotch(R) Gift Wrap Tape, 0.75 x 300 Inches, 3...</td>\n",
       "      <td>Transparent Tape</td>\n",
       "      <td>Office Products/Office &amp; School Supplies/Tape,...</td>\n",
       "    </tr>\n",
       "  </tbody>\n",
       "</table>\n",
       "</div>"
      ],
      "text/plain": [
       "   Item  Availability        ASIN  Price   Brand  \\\n",
       "0    24      0.475237  B00004Z498   3.62  Scotch   \n",
       "1    30      0.543847  B00004Z5QO   8.16   Avery   \n",
       "2    35      0.336081  B00004Z5SN   8.22   Avery   \n",
       "3    41      0.564493  B00004Z69W  15.96   Avery   \n",
       "4    45      0.908922  B0000538AC   4.39  Scotch   \n",
       "\n",
       "                                               Title  \\\n",
       "0  3M Scotch Mounting Tape, .5-Inch by 75-Inch (110)   \n",
       "1  Avery Easy Peel Return Address Labels for Inkj...   \n",
       "2  Avery Easy Peel Address Labels for Laser Print...   \n",
       "3  Avery Easy Peel Address Labels for Inkjet Prin...   \n",
       "4  Scotch(R) Gift Wrap Tape, 0.75 x 300 Inches, 3...   \n",
       "\n",
       "                          LeafCat  \\\n",
       "0                   Mounting Tape   \n",
       "1  Printer Labels: Laser & Inkjet   \n",
       "2                  Address Labels   \n",
       "3                  Address Labels   \n",
       "4                Transparent Tape   \n",
       "\n",
       "                                             FullCat  \n",
       "0  Office Products/Office & School Supplies/Tape,...  \n",
       "1  Office Products/Office & School Supplies/Label...  \n",
       "2  Office Products/Office & School Supplies/Label...  \n",
       "3  Office Products/Office & School Supplies/Label...  \n",
       "4  Office Products/Office & School Supplies/Tape,...  "
      ]
     },
     "execution_count": 8,
     "metadata": {},
     "output_type": "execute_result"
    }
   ],
   "source": [
    "import pandas as pd\n",
    "import numpy as np\n",
    "import matplotlib.pyplot as plt\n",
    "import seaborn as sns\n",
    "from IPython.display import display, Math, Latex\n",
    "\n",
    "# create initial dataframe\n",
    "items_df = pd.read_csv('items.csv')\n",
    "\n",
    "items_df.head()"
   ]
  },
  {
   "cell_type": "code",
   "execution_count": 11,
   "metadata": {},
   "outputs": [
    {
     "data": {
      "text/latex": [
       "$$\\sqrt{a^2 + b^2}$$"
      ],
      "text/plain": [
       "<IPython.core.display.Math object>"
      ]
     },
     "metadata": {},
     "output_type": "display_data"
    }
   ],
   "source": [
    "display(Math(r'\\sqrt{a^2 + b^2}'))"
   ]
  },
  {
   "cell_type": "markdown",
   "metadata": {},
   "source": [
    "# This is a level 1 heading\n",
    "## This is a level 2 heading\n",
    "This is some plain text that forms a paragraph.\n",
    "Add emphasis via **bold** and __bold__, or *italic* and _italic_."
   ]
  }
 ],
 "metadata": {
  "kernelspec": {
   "display_name": "Python 3",
   "language": "python",
   "name": "python3"
  },
  "language_info": {
   "codemirror_mode": {
    "name": "ipython",
    "version": 3
   },
   "file_extension": ".py",
   "mimetype": "text/x-python",
   "name": "python",
   "nbconvert_exporter": "python",
   "pygments_lexer": "ipython3",
   "version": "3.6.5"
  }
 },
 "nbformat": 4,
 "nbformat_minor": 2
}
