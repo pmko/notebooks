{
 "cells": [
  {
   "cell_type": "code",
   "execution_count": 3,
   "metadata": {},
   "outputs": [],
   "source": [
    "# string to be compressed\n",
    "cstr = \"aaabkKdee\"\n",
    "\n",
    "# larger string to use for profiling\n",
    "pstr = \"aaabkKdeeaaabkKdeeaaabkKdeeaaabkKdeeaaabkKdeeaaabkKdeeaaabkKdeeaaabkKdeeaaabkKdeeaaabkKdeeaaabkKdeeaaabkKdeeaaabkKdeeaaabkKdeeaaabkKdeeaaabkKdeeaaabkKdeeaaabkKdeeaaabkKdeeaaabkKdeeaaabkKdeeaaabkKdeeaaabkKdeeaaabkKdeeaaabkKdeeaaabkKdeeaaabkKdeeaaabkKdeeaaabkKdeeaaabkKdeeaaabkKdeeaaabkKdeeaaabkKdeeaaabkKdeeaaabkKdeeaaabkKdeeaaabkKdeeaaabkKdeeaaabkKdeeaaabkKdeeaaabkKdeeaaabkKdeeaaabkKdee\""
   ]
  },
  {
   "cell_type": "code",
   "execution_count": 4,
   "metadata": {},
   "outputs": [],
   "source": [
    "%load_ext memory_profiler"
   ]
  },
  {
   "cell_type": "code",
   "execution_count": 7,
   "metadata": {},
   "outputs": [],
   "source": [
    "# simple compression function\n",
    "\n",
    "def simple_compress(s):\n",
    "    'function that takes a string as an input and returns a compressed version of the string'\n",
    "    \n",
    "    # ignore case\n",
    "    s = s.lower()\n",
    "    \n",
    "    # result string\n",
    "    res = ''\n",
    "    \n",
    "    # keep track of sequential character count, always at least one\n",
    "    count = 1\n",
    "    \n",
    "    # insert count into result\n",
    "    def insert_count():\n",
    "        nonlocal res\n",
    "        if count>1:\n",
    "            res = res[:len(res)-1] + str(count) + res[-1:]\n",
    "    \n",
    "    # iterate over string to find sequences of similar characters\n",
    "    for i in range(0,len(s)):\n",
    "        if s[i] == s[i-1]:\n",
    "            count += 1\n",
    "        else:\n",
    "            # add in previous count if greater than 1\n",
    "            insert_count()\n",
    "            \n",
    "            # reset for next character\n",
    "            res = res + s[i]\n",
    "            count = 1\n",
    "    \n",
    "    # add in last count\n",
    "    insert_count()\n",
    "    \n",
    "    return res;"
   ]
  },
  {
   "cell_type": "code",
   "execution_count": 8,
   "metadata": {},
   "outputs": [
    {
     "name": "stdout",
     "output_type": "stream",
     "text": [
      "3ab2kd2e\n"
     ]
    }
   ],
   "source": [
    "print(simple_compress(cstr))\n",
    "# answer should be 3ab2kd2e"
   ]
  },
  {
   "cell_type": "code",
   "execution_count": 9,
   "metadata": {},
   "outputs": [
    {
     "name": "stdout",
     "output_type": "stream",
     "text": [
      "201 µs ± 1.53 µs per loop (mean ± std. dev. of 7 runs, 1000 loops each)\n",
      "peak memory: 44.80 MiB, increment: 0.15 MiB\n",
      " "
     ]
    },
    {
     "data": {
      "text/plain": [
       "         351 function calls in 0.000 seconds\n",
       "\n",
       "   Ordered by: internal time\n",
       "\n",
       "   ncalls  tottime  percall  cumtime  percall filename:lineno(function)\n",
       "      216    0.000    0.000    0.000    0.000 <ipython-input-7-9d6dd38af500>:16(insert_count)\n",
       "        1    0.000    0.000    0.000    0.000 <ipython-input-7-9d6dd38af500>:3(simple_compress)\n",
       "        1    0.000    0.000    0.000    0.000 {built-in method builtins.exec}\n",
       "      130    0.000    0.000    0.000    0.000 {built-in method builtins.len}\n",
       "        1    0.000    0.000    0.000    0.000 <string>:1(<module>)\n",
       "        1    0.000    0.000    0.000    0.000 {method 'lower' of 'str' objects}\n",
       "        1    0.000    0.000    0.000    0.000 {method 'disable' of '_lsprof.Profiler' objects}"
      ]
     },
     "metadata": {},
     "output_type": "display_data"
    }
   ],
   "source": [
    "# profile using larger string - takes a couple seconds to run\n",
    "%timeit simple_compress(pstr)\n",
    "%memit simple_compress(pstr)\n",
    "%prun simple_compress(pstr)"
   ]
  },
  {
   "cell_type": "code",
   "execution_count": 10,
   "metadata": {},
   "outputs": [],
   "source": [
    "# efficient compression function\n",
    "import itertools\n",
    "\n",
    "def eff_compression(s):\n",
    "    'potentially more efficient way of implementing simple_compress'\n",
    "    \n",
    "    res = ''\n",
    "    \n",
    "    for k,g in itertools.groupby(s.lower()):\n",
    "        l = len(list(g))\n",
    "        res += \"%s\" %(\"\" if l==1 else str(l)) + k\n",
    "    \n",
    "    return res;"
   ]
  },
  {
   "cell_type": "code",
   "execution_count": 11,
   "metadata": {},
   "outputs": [
    {
     "name": "stdout",
     "output_type": "stream",
     "text": [
      "3ab2kd2e\n"
     ]
    }
   ],
   "source": [
    "print(eff_compression(cstr))\n",
    "# answer should be 3ab2kd2e"
   ]
  },
  {
   "cell_type": "code",
   "execution_count": 12,
   "metadata": {},
   "outputs": [
    {
     "name": "stdout",
     "output_type": "stream",
     "text": [
      "161 µs ± 1.84 µs per loop (mean ± std. dev. of 7 runs, 1000 loops each)\n",
      "peak memory: 45.09 MiB, increment: 0.02 MiB\n",
      " "
     ]
    },
    {
     "data": {
      "text/plain": [
       "         220 function calls in 0.000 seconds\n",
       "\n",
       "   Ordered by: internal time\n",
       "\n",
       "   ncalls  tottime  percall  cumtime  percall filename:lineno(function)\n",
       "        1    0.000    0.000    0.000    0.000 <ipython-input-10-783bd74fe04d>:4(eff_compression)\n",
       "      215    0.000    0.000    0.000    0.000 {built-in method builtins.len}\n",
       "        1    0.000    0.000    0.000    0.000 {built-in method builtins.exec}\n",
       "        1    0.000    0.000    0.000    0.000 <string>:1(<module>)\n",
       "        1    0.000    0.000    0.000    0.000 {method 'lower' of 'str' objects}\n",
       "        1    0.000    0.000    0.000    0.000 {method 'disable' of '_lsprof.Profiler' objects}"
      ]
     },
     "metadata": {},
     "output_type": "display_data"
    }
   ],
   "source": [
    "# profile using larger string - takes a couple seconds to run\n",
    "%timeit eff_compression(pstr)\n",
    "%memit eff_compression(pstr)\n",
    "%prun eff_compression(pstr)"
   ]
  },
  {
   "cell_type": "code",
   "execution_count": null,
   "metadata": {},
   "outputs": [],
   "source": []
  }
 ],
 "metadata": {
  "kernelspec": {
   "display_name": "Python 3",
   "language": "python",
   "name": "python3"
  },
  "language_info": {
   "codemirror_mode": {
    "name": "ipython",
    "version": 3
   },
   "file_extension": ".py",
   "mimetype": "text/x-python",
   "name": "python",
   "nbconvert_exporter": "python",
   "pygments_lexer": "ipython3",
   "version": "3.6.5"
  }
 },
 "nbformat": 4,
 "nbformat_minor": 2
}
