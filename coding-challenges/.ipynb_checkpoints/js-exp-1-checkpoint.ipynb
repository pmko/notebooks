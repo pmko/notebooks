{
 "cells": [
  {
   "cell_type": "code",
   "execution_count": 1,
   "metadata": {},
   "outputs": [
    {
     "name": "stdout",
     "output_type": "stream",
     "text": [
      "Pixiedust database opened successfully\n"
     ]
    },
    {
     "data": {
      "text/html": [
       "\n",
       "        <div style=\"margin:10px\">\n",
       "            <a href=\"https://github.com/ibm-watson-data-lab/pixiedust\" target=\"_new\">\n",
       "                <img src=\"https://github.com/ibm-watson-data-lab/pixiedust/raw/master/docs/_static/pd_icon32.png\" style=\"float:left;margin-right:10px\"/>\n",
       "            </a>\n",
       "            <span>Pixiedust version 1.1.15</span>\n",
       "        </div>\n",
       "        "
      ],
      "text/plain": [
       "<IPython.core.display.HTML object>"
      ]
     },
     "metadata": {},
     "output_type": "display_data"
    },
    {
     "data": {
      "text/html": [
       "\n",
       "            <div style=\"margin:10px\"> \n",
       "            <a href=\"https://github.com/ibm-cds-labs/pixiedust_node\" target=\"_new\"> \n",
       "            <img src=\"https://github.com/ibm-cds-labs/pixiedust_node/raw/master/docs/_images/pdn_icon32.png\" style=\"float:left;margin-right:10px\"/> \n",
       "            </a> \n",
       "            <span>Pixiedust Node.js</span> \n",
       "            </div> \n"
      ],
      "text/plain": [
       "<IPython.core.display.HTML object>"
      ]
     },
     "metadata": {},
     "output_type": "display_data"
    },
    {
     "name": "stdout",
     "output_type": "stream",
     "text": [
      "pixiedust_node 0.2.5 started. Cells starting '%%node' may contain Node.js code.\n"
     ]
    }
   ],
   "source": [
    "import pixiedust_node"
   ]
  },
  {
   "cell_type": "code",
   "execution_count": 2,
   "metadata": {},
   "outputs": [
    {
     "name": "stdout",
     "output_type": "stream",
     "text": [
      "... ... ... ...\n",
      "\"edoC evoL I\"\n"
     ]
    }
   ],
   "source": [
    "%%node\n",
    "\n",
    "//# return the string in reverse order\n",
    "\n",
    "function FirstReverse(str) { \n",
    "    const chars = str.split(\"\");\n",
    "    let reversed = chars.reverse().join(\"\");\n",
    "    return reversed;    \n",
    "}\n",
    "\n",
    "print(FirstReverse(\"I Love Code\"));"
   ]
  },
  {
   "cell_type": "code",
   "execution_count": 3,
   "metadata": {},
   "outputs": [
    {
     "name": "stdout",
     "output_type": "stream",
     "text": [
      "... ... ... ... ... ... ..... ..... ..... ..... ..... ..... ....... ....... ....... ....... ....... ..... ..... ..... ... ... ...\n",
      "\"Ifmmp*3\"\n"
     ]
    }
   ],
   "source": [
    "%%node\n",
    "\n",
    "//# Replace every letter in the string with the letter following it in the alphabet (ie. c becomes d, z becomes a). Then capitalize every vowel in this new string (a, e, i, o, u) and finally return this modified string.\n",
    "\n",
    "function LetterChanges(str) {\n",
    "    const alphabet = \"abcdefghijklmnopqrstuvwxyz\".split(\"\");\n",
    "    const vowels = \"aeiou\".split(\"\");\n",
    "    const chars = str.split(\"\");\n",
    "    \n",
    "    let result = \"\";\n",
    "    for (let i=0;i<chars.length;i++) {\n",
    "        let char = chars[i];\n",
    "        \n",
    "        //# find char in alphabet and get char after it\n",
    "        let idx = alphabet.indexOf(char);\n",
    "        \n",
    "        if (idx > -1) {\n",
    "            \n",
    "            char = alphabet[idx!=alphabet.length-1?idx+1:0];\n",
    "            //# if char is a vowel, then capitolize it\n",
    "            if (vowels.indexOf(char)>-1) char = char.toUpperCase();\n",
    "        }\n",
    "        \n",
    "        result += char;\n",
    "    }\n",
    "    \n",
    "    return result;     \n",
    "}\n",
    "   \n",
    "print(LetterChanges(\"hello*3\"));   "
   ]
  },
  {
   "cell_type": "code",
   "execution_count": 4,
   "metadata": {},
   "outputs": [
    {
     "name": "stdout",
     "output_type": "stream",
     "text": [
      "... ... ... ..... ..... ....... ....... ....... ....... ..... ... ... ... ... ... ... ... ... ... ...\n",
      "3\n"
     ]
    }
   ],
   "source": [
    "%%node\n",
    "\n",
    "//# count pairs\n",
    "const c = 9;\n",
    "const v = [10, 20, 20, 10, 10, 30, 50, 10, 20];\n",
    "\n",
    "function sockMerchant(n, ar) {\n",
    "    //# sort\n",
    "    let sorted = {};\n",
    "    for (let i = 0; i < n; i++) {\n",
    "        let key = ar[i].toString();\n",
    "        if (key in sorted) {\n",
    "            sorted[key] += 1;\n",
    "        } else {\n",
    "            sorted[key] = 1;\n",
    "        }\n",
    "    }\n",
    "\n",
    "    //# count\n",
    "    let sum = 0;\n",
    "    Object.keys(sorted).map(function(key) {\n",
    "        sum += Math.floor(sorted[key]/2);\n",
    "    });\n",
    "\n",
    "    //# return\n",
    "    return sum;\n",
    "}\n",
    "\n",
    "print(sockMerchant(c,v));"
   ]
  },
  {
   "cell_type": "code",
   "execution_count": 5,
   "metadata": {},
   "outputs": [
    {
     "name": "stdout",
     "output_type": "stream",
     "text": [
      "... ... ... ... ... ... ... ... ... ... ... ... ... ... ... ..... ..... ... ... ... ... ... ...\n",
      "2\n"
     ]
    }
   ],
   "source": [
    "%%node\n",
    "\n",
    "const step_count = 8;\n",
    "const path = 'UDDDDUUUUDDUU';\n",
    "\n",
    "function countingValleys(n, s) {\n",
    "    let steps = s.split('');\n",
    "    let elevation = 0;\n",
    "    let state = 0;\n",
    "    let valley_count = 0;\n",
    "\n",
    "    //# loop over steps\n",
    "    for (let i = 0; i < steps.length; i++) {\n",
    "        //# transform direction\n",
    "        let dir = steps[i] == 'U' ? 1 : -1;\n",
    "        //# adjust elevation\n",
    "        elevation += dir;\n",
    "        //# get current state of elevation\n",
    "        let updated_state = Math.sign(elevation);\n",
    "        //# test for valley\n",
    "        if (state==-1 && updated_state==0 ) {\n",
    "            valley_count += 1;\n",
    "        }\n",
    "        //# update state\n",
    "        state = updated_state;\n",
    "    }\n",
    "\n",
    "    return valley_count;\n",
    "}\n",
    "\n",
    "print(countingValleys(step_count,path));"
   ]
  },
  {
   "cell_type": "code",
   "execution_count": 6,
   "metadata": {},
   "outputs": [
    {
     "name": "stdout",
     "output_type": "stream",
     "text": [
      "... ... ... ... ... ... ... ..... ..... ... ... ... ... ... ... ...\n",
      "3\n",
      "\n"
     ]
    }
   ],
   "source": [
    "%%node\n",
    "\n",
    "const cloud_ar = [0, 0, 0, 1, 0, 0];\n",
    "//# [0, 0, 0, 1, 0, 0];\n",
    "//# [0, 0, 1, 0, 0, 1, 0];\n",
    "\n",
    "function jumpingOnClouds(ar) {\n",
    "    let clouds = ar;\n",
    "    let num_jumps = 0;\n",
    "\n",
    "    for (let i = 0; i < clouds.length; i++) {\n",
    "        //determine furthest step possible, work backwards\n",
    "        if (i==clouds.length-1) break;\n",
    "        if (clouds[(i + 2)] == 0 && i<clouds.length-1) {\n",
    "            i += 1;\n",
    "        } \n",
    "\n",
    "        //increment steps taken\n",
    "        num_jumps += 1;\n",
    "    }\n",
    "\n",
    "    return num_jumps;\n",
    "}\n",
    "\n",
    "console.log(jumpingOnClouds(cloud_ar));"
   ]
  },
  {
   "cell_type": "code",
   "execution_count": null,
   "metadata": {},
   "outputs": [],
   "source": []
  }
 ],
 "metadata": {
  "kernelspec": {
   "display_name": "Python 3",
   "language": "python",
   "name": "python3"
  },
  "language_info": {
   "codemirror_mode": {
    "name": "ipython",
    "version": 3
   },
   "file_extension": ".py",
   "mimetype": "text/x-python",
   "name": "python",
   "nbconvert_exporter": "python",
   "pygments_lexer": "ipython3",
   "version": "3.7.1"
  }
 },
 "nbformat": 4,
 "nbformat_minor": 2
}
