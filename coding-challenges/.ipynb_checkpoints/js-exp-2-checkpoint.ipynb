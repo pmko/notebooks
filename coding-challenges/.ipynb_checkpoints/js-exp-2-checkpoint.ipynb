{
 "cells": [
  {
   "cell_type": "code",
   "execution_count": 1,
   "metadata": {},
   "outputs": [
    {
     "name": "stdout",
     "output_type": "stream",
     "text": [
      "Pixiedust database opened successfully\n"
     ]
    },
    {
     "data": {
      "text/html": [
       "\n",
       "        <div style=\"margin:10px\">\n",
       "            <a href=\"https://github.com/ibm-watson-data-lab/pixiedust\" target=\"_new\">\n",
       "                <img src=\"https://github.com/ibm-watson-data-lab/pixiedust/raw/master/docs/_static/pd_icon32.png\" style=\"float:left;margin-right:10px\"/>\n",
       "            </a>\n",
       "            <span>Pixiedust version 1.1.15</span>\n",
       "        </div>\n",
       "        "
      ],
      "text/plain": [
       "<IPython.core.display.HTML object>"
      ]
     },
     "metadata": {},
     "output_type": "display_data"
    },
    {
     "data": {
      "text/html": [
       "\n",
       "            <div style=\"margin:10px\"> \n",
       "            <a href=\"https://github.com/ibm-cds-labs/pixiedust_node\" target=\"_new\"> \n",
       "            <img src=\"https://github.com/ibm-cds-labs/pixiedust_node/raw/master/docs/_images/pdn_icon32.png\" style=\"float:left;margin-right:10px\"/> \n",
       "            </a> \n",
       "            <span>Pixiedust Node.js</span> \n",
       "            </div> \n"
      ],
      "text/plain": [
       "<IPython.core.display.HTML object>"
      ]
     },
     "metadata": {},
     "output_type": "display_data"
    },
    {
     "name": "stdout",
     "output_type": "stream",
     "text": [
      "pixiedust_node 0.2.5 started. Cells starting '%%node' may contain Node.js code.\n"
     ]
    }
   ],
   "source": [
    "import pixiedust_node"
   ]
  },
  {
   "cell_type": "code",
   "execution_count": 2,
   "metadata": {},
   "outputs": [
    {
     "name": "stdout",
     "output_type": "stream",
     "text": [
      "... ... ... ... ... ... ... ... ..... ..... ..... ... ... ..... ..... ..... ... ... ...\n",
      "51574523448\n"
     ]
    }
   ],
   "source": [
    "%%node\n",
    "\n",
    "let char_count = 736778906400;\n",
    "let char_pattern = 'kmretasscityylpdhuwjirnqimlkcgxubxmsxpypgzxtenweirknjtasxtvxemtwxuarabssvqdnktqadhyktagjxoanknhgilnm';\n",
    "\n",
    "function repeatedString(s, n) {\n",
    "    const chars = s.split('');\n",
    "    \n",
    "    //# figure out num times to iteriate over string\n",
    "    let repeat_count = Math.floor(n / chars.length);\n",
    "    let extra_chars = n % chars.length;\n",
    "    \n",
    "    //# num a in base string\n",
    "    let curr_count = chars.reduce(function(a_count,item) {\n",
    "        if (item=='a')  a_count += 1;\n",
    "        return a_count;\n",
    "    },0);\n",
    "    \n",
    "    let sub_count = s.substring(0, extra_chars).split('').reduce(function(a_count,item) {\n",
    "        if (item=='a')  a_count += 1;\n",
    "        return a_count;\n",
    "    },0);\n",
    "    \n",
    "    return curr_count*repeat_count + sub_count;\n",
    "}\n",
    "\n",
    "//# 51574523448\n",
    "print(repeatedString(char_pattern, char_count));"
   ]
  },
  {
   "cell_type": "code",
   "execution_count": 3,
   "metadata": {},
   "outputs": [
    {
     "name": "stdout",
     "output_type": "stream",
     "text": [
      "... ... ... ..... ..... ... ... ...\n",
      "... ... ..... ....... ....... ....... ....... ..... ... ...\n",
      "╱╲╱╲╱╲╱╲╱╲╱╲╱╲\n",
      "╱╲╱╲╱╲╱╲╱╲╱╲╱╲\n",
      "╱╲╱╲╱╲╱╲╱╲╱╲╱╲\n",
      "╱╲╱╲╱╲╱╲╱╲╱╲╱╲\n",
      "╱╲╱╲╱╲╱╲╱╲╱╲╱╲\n",
      "╱╲╱╲╱╲╱╲╱╲╱╲╱╲\n",
      "╱╲╱╲╱╲╱╲╱╲╱╲╱╲\n",
      "╱╲╱╲╱╲╱╲╱╲╱╲╱╲\n",
      "╱╲╱╲╱╲╱╲╱╲╱╲╱╲\n",
      "╱╲╱╲╱╲╱╲╱╲╱╲╱╲\n",
      "╱╲╱╲╱╲╱╲╱╲╱╲╱╲\n",
      "╱╲╱╲╱╲╱╲╱╲╱╲╱╲\n",
      "╱╲╱╲╱╲╱╲╱╲╱╲╱╲\n",
      "╱╲╱╲╱╲╱╲╱╲╱╲╱╲\n",
      "{\"_pixiedust\":true,\"type\":\"print\"}\n"
     ]
    }
   ],
   "source": [
    "%%node\n",
    "\n",
    "function processData() {\n",
    "    const tree_line = getLine();\n",
    "    let output = '';\n",
    "    for (let i =0;i<14;i++){\n",
    "        output += tree_line;\n",
    "    }\n",
    "\n",
    "    console.log(output);\n",
    "}\n",
    "\n",
    "function getLine() {\n",
    "    let line = \"\";\n",
    "    for (let i=0;i<14;i++) {\n",
    "        if (i%2>0) {\n",
    "            line += \"\\u2572\";\n",
    "        } else {\n",
    "            line += \"\\u2571\";\n",
    "        }\n",
    "    }\n",
    "    return line+\"\\n\";\n",
    "}\n",
    "\n",
    "print(processData());"
   ]
  },
  {
   "cell_type": "code",
   "execution_count": null,
   "metadata": {},
   "outputs": [],
   "source": []
  }
 ],
 "metadata": {
  "kernelspec": {
   "display_name": "Python 3",
   "language": "python",
   "name": "python3"
  },
  "language_info": {
   "codemirror_mode": {
    "name": "ipython",
    "version": 3
   },
   "file_extension": ".py",
   "mimetype": "text/x-python",
   "name": "python",
   "nbconvert_exporter": "python",
   "pygments_lexer": "ipython3",
   "version": "3.7.1"
  }
 },
 "nbformat": 4,
 "nbformat_minor": 2
}
