{
 "cells": [
  {
   "cell_type": "code",
   "execution_count": 6,
   "metadata": {},
   "outputs": [],
   "source": [
    "from bs4 import BeautifulSoup\n",
    "import json\n",
    "\n",
    "# load file\n",
    "file = open('parsing_input.html', 'r', encoding='utf8')\n",
    "soup = BeautifulSoup(file, 'html.parser')"
   ]
  },
  {
   "cell_type": "code",
   "execution_count": 7,
   "metadata": {},
   "outputs": [],
   "source": [
    "# dictionary of parsed results, can be converted to json\n",
    "order = {}\n",
    "\n",
    "# grab order details section of HTML\n",
    "order_details = soup.find(attrs={'data-section' : 'order-data'})\n",
    "\n",
    "# get phone\n",
    "phone = order_details.find('div', {'data-section':'diner'})\n",
    "order['customer'] = {'name' : soup.select('table > tr')[1].get_text(strip=True), 'phone' : phone.get_text(strip=True)}\n",
    "phone.decompose()\n",
    "\n",
    "# get restaurant name\n",
    "restaurant_name = order_details.find('div', {'data-section':'restaurant'})\n",
    "order['restaurant'] = {'restaurant_name' : restaurant_name.get_text(strip=True)}\n",
    "restaurant_name.decompose()\n",
    "\n",
    "# get order id\n",
    "order['customer_order_id'] = soup.find(attrs={'id' : 'cust_service_info'}).text.strip()[6:]"
   ]
  },
  {
   "cell_type": "code",
   "execution_count": 8,
   "metadata": {},
   "outputs": [],
   "source": [
    "# get all the menu items\n",
    "order['menu_items'] = []\n",
    "\n",
    "menu_items = order_details.findAll('div', {'data-section':'menu-item'})\n",
    "\n",
    "for item in menu_items:\n",
    "    item_id = item.find('div', {'data-field':'menu-item-name'})['menu-item-id']\n",
    "    item_name = item.find('div', {'data-field':'menu-item-name'}).get_text(strip=True)\n",
    "    item_price = item.find('div', {'data-field':'price'}).get_text(strip=True)\n",
    "    item_quantity = item.find('div', {'data-field':'quantity'}).get_text(strip=True)\n",
    "    order['menu_items'].append({'id':item_id, 'item_name':item_name, 'price':item_price, 'quantity':item_quantity})"
   ]
  },
  {
   "cell_type": "code",
   "execution_count": 9,
   "metadata": {},
   "outputs": [
    {
     "name": "stdout",
     "output_type": "stream",
     "text": [
      "{\n",
      "  \"customer\": {\n",
      "    \"name\": \"James Bond\",\n",
      "    \"phone\": \"(555) 555-1212\"\n",
      "  },\n",
      "  \"customer_order_id\": \"99250207-8683267\",\n",
      "  \"menu_items\": [\n",
      "    {\n",
      "      \"id\": \"434\",\n",
      "      \"item_name\": \"Wings\",\n",
      "      \"price\": \"$8.99\",\n",
      "      \"quantity\": \"1\"\n",
      "    },\n",
      "    {\n",
      "      \"id\": \"123\",\n",
      "      \"item_name\": \"Mozzarella Sticks\",\n",
      "      \"price\": \"$6.49\",\n",
      "      \"quantity\": \"1\"\n",
      "    },\n",
      "    {\n",
      "      \"id\": \"12\",\n",
      "      \"item_name\": \"Pepperoni Pizza\",\n",
      "      \"price\": \"$17.00\",\n",
      "      \"quantity\": \"1\"\n",
      "    },\n",
      "    {\n",
      "      \"id\": \"54\",\n",
      "      \"item_name\": \"Garlic Knots\",\n",
      "      \"price\": \"$2.99\",\n",
      "      \"quantity\": \"1\"\n",
      "    }\n",
      "  ],\n",
      "  \"restaurant\": {\n",
      "    \"restaurant_name\": \"Food Is Tasty\"\n",
      "  }\n",
      "}\n"
     ]
    }
   ],
   "source": [
    "# output to json\n",
    "print(json.dumps(order,indent=2,sort_keys=True))"
   ]
  },
  {
   "cell_type": "code",
   "execution_count": null,
   "metadata": {},
   "outputs": [],
   "source": []
  }
 ],
 "metadata": {
  "kernelspec": {
   "display_name": "Python 3",
   "language": "python",
   "name": "python3"
  },
  "language_info": {
   "codemirror_mode": {
    "name": "ipython",
    "version": 3
   },
   "file_extension": ".py",
   "mimetype": "text/x-python",
   "name": "python",
   "nbconvert_exporter": "python",
   "pygments_lexer": "ipython3",
   "version": "3.6.5"
  }
 },
 "nbformat": 4,
 "nbformat_minor": 2
}
