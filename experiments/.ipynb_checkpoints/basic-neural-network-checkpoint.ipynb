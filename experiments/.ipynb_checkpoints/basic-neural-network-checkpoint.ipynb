{
 "cells": [
  {
   "cell_type": "code",
   "execution_count": 8,
   "metadata": {},
   "outputs": [],
   "source": [
    "import numpy as np\n",
    "from sklearn.metrics import mean_squared_error"
   ]
  },
  {
   "cell_type": "code",
   "execution_count": 45,
   "metadata": {},
   "outputs": [
    {
     "name": "stdout",
     "output_type": "stream",
     "text": [
      "initial prediction: 9\n",
      "initial error: 36\n",
      "\n",
      "--------\n",
      "\n",
      "slope: [  0. 216.]\n",
      "updated weights:\n",
      " [[ 2.   -1.16]\n",
      " [ 1.   -0.16]\n",
      " [ 1.   -1.16]]\n",
      "updated prediction: 0\n",
      "updated error: 9\n"
     ]
    }
   ],
   "source": [
    "def relu(input):\n",
    "    '''activation function'''\n",
    "    # Calculate the value for the output of the relu function: output\n",
    "    output = max(0, input)\n",
    "    \n",
    "    # Return the value just calculated\n",
    "    return(output)\n",
    "\n",
    "def predict_with_network(input_data_row, weights):\n",
    "\n",
    "    # Calculate node 0 value\n",
    "    node_0_input = (input_data_row * weights[0]).sum()\n",
    "    node_0_output = relu(node_0_input)\n",
    "\n",
    "    # Calculate node 1 value\n",
    "    node_1_input = (input_data_row * weights[1]).sum()\n",
    "    node_1_output = relu(node_1_input)\n",
    "\n",
    "    # Put node values into array: hidden_layer_outputs\n",
    "    hidden_layer_outputs = np.array([node_0_output, node_1_output])\n",
    "    \n",
    "    # Calculate model output\n",
    "    input_to_final_layer = (hidden_layer_outputs * weights[2]).sum()\n",
    "    model_output = relu(input_to_final_layer)\n",
    "    \n",
    "    # Return model output\n",
    "    return(model_output)\n",
    "\n",
    "def get_slope(input_data, error):\n",
    "    return 2 * input_data * error\n",
    "\n",
    "def update_weights(weights, slope):\n",
    "    return weights - (learning_rate * slope)\n",
    "\n",
    "learning_rate = 0.01\n",
    "target_actual = 3\n",
    "input_data = np.array([0, 3])\n",
    "weights = [[2, 1], [1, 2], [1, 1]]\n",
    "\n",
    "model_output = predict_with_network(input_data, weights)\n",
    "print(\"initial prediction: %d\" % model_output)\n",
    "mse = mean_squared_error([target_actual],[model_output])\n",
    "print(\"initial error: %d\" % mse)\n",
    "\n",
    "print(\"\\n--------\\n\")\n",
    "\n",
    "slope = get_slope(input_data, mse)\n",
    "print(\"slope: %s\" % slope)\n",
    "weights = update_weights(weights, slope)\n",
    "print(\"updated weights:\\n %s\" % weights)\n",
    "model_output = predict_with_network(input_data, weights)\n",
    "print(\"updated prediction: %d\" % model_output)\n",
    "mse = mean_squared_error([target_actual],[model_output])\n",
    "print(\"updated error: %d\" % mse)"
   ]
  },
  {
   "cell_type": "code",
   "execution_count": null,
   "metadata": {},
   "outputs": [],
   "source": []
  }
 ],
 "metadata": {
  "kernelspec": {
   "display_name": "Python 3",
   "language": "python",
   "name": "python3"
  },
  "language_info": {
   "codemirror_mode": {
    "name": "ipython",
    "version": 3
   },
   "file_extension": ".py",
   "mimetype": "text/x-python",
   "name": "python",
   "nbconvert_exporter": "python",
   "pygments_lexer": "ipython3",
   "version": "3.6.5"
  }
 },
 "nbformat": 4,
 "nbformat_minor": 2
}
