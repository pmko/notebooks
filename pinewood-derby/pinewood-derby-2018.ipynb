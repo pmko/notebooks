{
 "cells": [
  {
   "cell_type": "code",
   "execution_count": 2,
   "metadata": {},
   "outputs": [
    {
     "name": "stdout",
     "output_type": "stream",
     "text": [
      "(234, 10)\n"
     ]
    }
   ],
   "source": [
    "import pandas as pd\n",
    "\n",
    "# create initial dataframe\n",
    "race_df = pd.read_csv('heat-results.csv')\n",
    "\n",
    "print(race_df.shape)"
   ]
  },
  {
   "cell_type": "code",
   "execution_count": 3,
   "metadata": {},
   "outputs": [
    {
     "name": "stdout",
     "output_type": "stream",
     "text": [
      "<class 'pandas.core.frame.DataFrame'>\n",
      "RangeIndex: 234 entries, 0 to 233\n",
      "Data columns (total 10 columns):\n",
      "heat          234 non-null int64\n",
      "lane          234 non-null int64\n",
      "last_name     234 non-null object\n",
      "first_name    234 non-null object\n",
      "group         234 non-null object\n",
      "car_id        234 non-null int64\n",
      "car_name      234 non-null object\n",
      "time          234 non-null float64\n",
      "place         234 non-null int64\n",
      "speed         234 non-null float64\n",
      "dtypes: float64(2), int64(4), object(4)\n",
      "memory usage: 18.4+ KB\n",
      "None\n"
     ]
    }
   ],
   "source": [
    "print(race_df.info())"
   ]
  },
  {
   "cell_type": "code",
   "execution_count": 4,
   "metadata": {},
   "outputs": [
    {
     "name": "stdout",
     "output_type": "stream",
     "text": [
      "             heat        lane      car_id        time       place       speed\n",
      "count  234.000000  234.000000  234.000000  234.000000  234.000000  234.000000\n",
      "mean     5.230769    3.500000   23.230769    4.121041    3.397436  208.389829\n",
      "std      3.379780    1.711486   12.486824    0.912051    1.688180   27.353797\n",
      "min      1.000000    1.000000    2.000000    3.573800    1.000000   83.520000\n",
      "25%      3.000000    2.000000   12.000000    3.707575    2.000000  196.420000\n",
      "50%      5.000000    3.500000   24.000000    3.804100    3.000000  219.560000\n",
      "75%      7.000000    5.000000   34.000000    4.252325    5.000000  225.275000\n",
      "max     14.000000    6.000000   44.000000    9.999900    6.000000  233.710000\n"
     ]
    }
   ],
   "source": [
    "print(race_df.describe())"
   ]
  },
  {
   "cell_type": "code",
   "execution_count": 5,
   "metadata": {},
   "outputs": [
    {
     "name": "stdout",
     "output_type": "stream",
     "text": [
      "   heat  lane  last_name first_name           group  car_id     car_name  \\\n",
      "0     1     1   Akrabian    Matthew  Arrow of Light      37  Lamborghini   \n",
      "1     1     2   Elsesser      Mikey  Arrow of Light      40     SS Mikey   \n",
      "2     1     3    Marquez     Justin  Arrow of Light      42    Gold Mine   \n",
      "3     1     4     Silsby     Landon  Arrow of Light      44     Red Fury   \n",
      "4     1     5  De Ruyter      Aaron  Arrow of Light      38   Black Fire   \n",
      "\n",
      "     time  place   speed  \n",
      "0  3.6254      1  230.38  \n",
      "1  4.6662      6  179.00  \n",
      "2  3.6834      3  226.75  \n",
      "3  3.7199      4  224.53  \n",
      "4  3.6790      2  227.03  \n"
     ]
    }
   ],
   "source": [
    "print(race_df.head())"
   ]
  },
  {
   "cell_type": "code",
   "execution_count": 6,
   "metadata": {},
   "outputs": [
    {
     "data": {
      "text/html": [
       "<div>\n",
       "<style scoped>\n",
       "    .dataframe tbody tr th:only-of-type {\n",
       "        vertical-align: middle;\n",
       "    }\n",
       "\n",
       "    .dataframe tbody tr th {\n",
       "        vertical-align: top;\n",
       "    }\n",
       "\n",
       "    .dataframe thead th {\n",
       "        text-align: right;\n",
       "    }\n",
       "</style>\n",
       "<table border=\"1\" class=\"dataframe\">\n",
       "  <thead>\n",
       "    <tr style=\"text-align: right;\">\n",
       "      <th></th>\n",
       "      <th>heat</th>\n",
       "      <th>lane</th>\n",
       "      <th>last_name</th>\n",
       "      <th>first_name</th>\n",
       "      <th>group</th>\n",
       "      <th>car_id</th>\n",
       "      <th>car_name</th>\n",
       "      <th>time</th>\n",
       "      <th>place</th>\n",
       "      <th>speed</th>\n",
       "    </tr>\n",
       "  </thead>\n",
       "  <tbody>\n",
       "    <tr>\n",
       "      <th>52</th>\n",
       "      <td>2</td>\n",
       "      <td>5</td>\n",
       "      <td>Colinsky</td>\n",
       "      <td>Cooper</td>\n",
       "      <td>Bear</td>\n",
       "      <td>27</td>\n",
       "      <td>Silver Bullet</td>\n",
       "      <td>3.8357</td>\n",
       "      <td>3</td>\n",
       "      <td>217.75</td>\n",
       "    </tr>\n",
       "    <tr>\n",
       "      <th>57</th>\n",
       "      <td>3</td>\n",
       "      <td>4</td>\n",
       "      <td>Colinsky</td>\n",
       "      <td>Cooper</td>\n",
       "      <td>Bear</td>\n",
       "      <td>27</td>\n",
       "      <td>Silver Bullet</td>\n",
       "      <td>3.8064</td>\n",
       "      <td>3</td>\n",
       "      <td>219.43</td>\n",
       "    </tr>\n",
       "    <tr>\n",
       "      <th>67</th>\n",
       "      <td>5</td>\n",
       "      <td>2</td>\n",
       "      <td>Colinsky</td>\n",
       "      <td>Cooper</td>\n",
       "      <td>Bear</td>\n",
       "      <td>27</td>\n",
       "      <td>Silver Bullet</td>\n",
       "      <td>3.8460</td>\n",
       "      <td>5</td>\n",
       "      <td>217.17</td>\n",
       "    </tr>\n",
       "    <tr>\n",
       "      <th>84</th>\n",
       "      <td>8</td>\n",
       "      <td>1</td>\n",
       "      <td>Colinsky</td>\n",
       "      <td>Cooper</td>\n",
       "      <td>Bear</td>\n",
       "      <td>27</td>\n",
       "      <td>Silver Bullet</td>\n",
       "      <td>3.8565</td>\n",
       "      <td>5</td>\n",
       "      <td>216.58</td>\n",
       "    </tr>\n",
       "    <tr>\n",
       "      <th>104</th>\n",
       "      <td>11</td>\n",
       "      <td>3</td>\n",
       "      <td>Colinsky</td>\n",
       "      <td>Cooper</td>\n",
       "      <td>Bear</td>\n",
       "      <td>27</td>\n",
       "      <td>Silver Bullet</td>\n",
       "      <td>3.8429</td>\n",
       "      <td>3</td>\n",
       "      <td>217.34</td>\n",
       "    </tr>\n",
       "    <tr>\n",
       "      <th>113</th>\n",
       "      <td>12</td>\n",
       "      <td>6</td>\n",
       "      <td>Colinsky</td>\n",
       "      <td>Cooper</td>\n",
       "      <td>Bear</td>\n",
       "      <td>27</td>\n",
       "      <td>Silver Bullet</td>\n",
       "      <td>3.8930</td>\n",
       "      <td>4</td>\n",
       "      <td>214.55</td>\n",
       "    </tr>\n",
       "  </tbody>\n",
       "</table>\n",
       "</div>"
      ],
      "text/plain": [
       "     heat  lane last_name first_name group  car_id       car_name    time  \\\n",
       "52      2     5  Colinsky     Cooper  Bear      27  Silver Bullet  3.8357   \n",
       "57      3     4  Colinsky     Cooper  Bear      27  Silver Bullet  3.8064   \n",
       "67      5     2  Colinsky     Cooper  Bear      27  Silver Bullet  3.8460   \n",
       "84      8     1  Colinsky     Cooper  Bear      27  Silver Bullet  3.8565   \n",
       "104    11     3  Colinsky     Cooper  Bear      27  Silver Bullet  3.8429   \n",
       "113    12     6  Colinsky     Cooper  Bear      27  Silver Bullet  3.8930   \n",
       "\n",
       "     place   speed  \n",
       "52       3  217.75  \n",
       "57       3  219.43  \n",
       "67       5  217.17  \n",
       "84       5  216.58  \n",
       "104      3  217.34  \n",
       "113      4  214.55  "
      ]
     },
     "execution_count": 6,
     "metadata": {},
     "output_type": "execute_result"
    }
   ],
   "source": [
    "race_df.loc[race_df['last_name'] == \"Colinsky\"]"
   ]
  },
  {
   "cell_type": "code",
   "execution_count": 7,
   "metadata": {},
   "outputs": [
    {
     "data": {
      "text/html": [
       "<div>\n",
       "<style scoped>\n",
       "    .dataframe tbody tr th:only-of-type {\n",
       "        vertical-align: middle;\n",
       "    }\n",
       "\n",
       "    .dataframe tbody tr th {\n",
       "        vertical-align: top;\n",
       "    }\n",
       "\n",
       "    .dataframe thead th {\n",
       "        text-align: right;\n",
       "    }\n",
       "</style>\n",
       "<table border=\"1\" class=\"dataframe\">\n",
       "  <thead>\n",
       "    <tr style=\"text-align: right;\">\n",
       "      <th></th>\n",
       "      <th>heat</th>\n",
       "      <th>lane</th>\n",
       "      <th>car_id</th>\n",
       "      <th>time</th>\n",
       "      <th>place</th>\n",
       "      <th>speed</th>\n",
       "    </tr>\n",
       "  </thead>\n",
       "  <tbody>\n",
       "    <tr>\n",
       "      <th>count</th>\n",
       "      <td>6.000000</td>\n",
       "      <td>6.000000</td>\n",
       "      <td>6.0</td>\n",
       "      <td>6.000000</td>\n",
       "      <td>6.000000</td>\n",
       "      <td>6.000000</td>\n",
       "    </tr>\n",
       "    <tr>\n",
       "      <th>mean</th>\n",
       "      <td>6.833333</td>\n",
       "      <td>3.500000</td>\n",
       "      <td>27.0</td>\n",
       "      <td>3.846750</td>\n",
       "      <td>3.833333</td>\n",
       "      <td>217.136667</td>\n",
       "    </tr>\n",
       "    <tr>\n",
       "      <th>std</th>\n",
       "      <td>4.167333</td>\n",
       "      <td>1.870829</td>\n",
       "      <td>0.0</td>\n",
       "      <td>0.028283</td>\n",
       "      <td>0.983192</td>\n",
       "      <td>1.592403</td>\n",
       "    </tr>\n",
       "    <tr>\n",
       "      <th>min</th>\n",
       "      <td>2.000000</td>\n",
       "      <td>1.000000</td>\n",
       "      <td>27.0</td>\n",
       "      <td>3.806400</td>\n",
       "      <td>3.000000</td>\n",
       "      <td>214.550000</td>\n",
       "    </tr>\n",
       "    <tr>\n",
       "      <th>25%</th>\n",
       "      <td>3.500000</td>\n",
       "      <td>2.250000</td>\n",
       "      <td>27.0</td>\n",
       "      <td>3.837500</td>\n",
       "      <td>3.000000</td>\n",
       "      <td>216.727500</td>\n",
       "    </tr>\n",
       "    <tr>\n",
       "      <th>50%</th>\n",
       "      <td>6.500000</td>\n",
       "      <td>3.500000</td>\n",
       "      <td>27.0</td>\n",
       "      <td>3.844450</td>\n",
       "      <td>3.500000</td>\n",
       "      <td>217.255000</td>\n",
       "    </tr>\n",
       "    <tr>\n",
       "      <th>75%</th>\n",
       "      <td>10.250000</td>\n",
       "      <td>4.750000</td>\n",
       "      <td>27.0</td>\n",
       "      <td>3.853875</td>\n",
       "      <td>4.750000</td>\n",
       "      <td>217.647500</td>\n",
       "    </tr>\n",
       "    <tr>\n",
       "      <th>max</th>\n",
       "      <td>12.000000</td>\n",
       "      <td>6.000000</td>\n",
       "      <td>27.0</td>\n",
       "      <td>3.893000</td>\n",
       "      <td>5.000000</td>\n",
       "      <td>219.430000</td>\n",
       "    </tr>\n",
       "  </tbody>\n",
       "</table>\n",
       "</div>"
      ],
      "text/plain": [
       "            heat      lane  car_id      time     place       speed\n",
       "count   6.000000  6.000000     6.0  6.000000  6.000000    6.000000\n",
       "mean    6.833333  3.500000    27.0  3.846750  3.833333  217.136667\n",
       "std     4.167333  1.870829     0.0  0.028283  0.983192    1.592403\n",
       "min     2.000000  1.000000    27.0  3.806400  3.000000  214.550000\n",
       "25%     3.500000  2.250000    27.0  3.837500  3.000000  216.727500\n",
       "50%     6.500000  3.500000    27.0  3.844450  3.500000  217.255000\n",
       "75%    10.250000  4.750000    27.0  3.853875  4.750000  217.647500\n",
       "max    12.000000  6.000000    27.0  3.893000  5.000000  219.430000"
      ]
     },
     "execution_count": 7,
     "metadata": {},
     "output_type": "execute_result"
    }
   ],
   "source": [
    "race_df.loc[race_df['last_name'] == \"Colinsky\"].describe()"
   ]
  },
  {
   "cell_type": "code",
   "execution_count": 8,
   "metadata": {},
   "outputs": [
    {
     "name": "stdout",
     "output_type": "stream",
     "text": [
      "             lane      car_id        time       place       speed\n",
      "count  234.000000  234.000000  234.000000  234.000000  234.000000\n",
      "mean     3.500000   23.230769    4.121041    3.397436  208.389829\n",
      "std      1.711486   12.486824    0.912051    1.688180   27.353797\n",
      "min      1.000000    2.000000    3.573800    1.000000   83.520000\n",
      "25%      2.000000   12.000000    3.707575    2.000000  196.420000\n",
      "50%      3.500000   24.000000    3.804100    3.000000  219.560000\n",
      "75%      5.000000   34.000000    4.252325    5.000000  225.275000\n",
      "max      6.000000   44.000000    9.999900    6.000000  233.710000\n"
     ]
    }
   ],
   "source": [
    "lanes_df = race_df[[\"lane\", \"car_id\", \"time\", \"place\", \"speed\"]]\n",
    "print(lanes_df.describe())"
   ]
  },
  {
   "cell_type": "code",
   "execution_count": 9,
   "metadata": {},
   "outputs": [
    {
     "name": "stdout",
     "output_type": "stream",
     "text": [
      "   lane  car_id    time  place   speed\n",
      "0     1      37  3.6254      1  230.38\n",
      "1     2      40  4.6662      6  179.00\n",
      "2     3      42  3.6834      3  226.75\n",
      "3     4      44  3.7199      4  224.53\n",
      "4     5      38  3.6790      2  227.03\n",
      "5     6      41  3.7963      5  220.01\n",
      "6     1      38  3.6171      1  230.91\n",
      "7     2      41  3.7562      5  222.36\n",
      "8     3      43  3.6248      2  230.42\n",
      "9     4      37  3.6362      3  229.70\n"
     ]
    }
   ],
   "source": [
    "print(lanes_df.head(10))"
   ]
  },
  {
   "cell_type": "code",
   "execution_count": 10,
   "metadata": {},
   "outputs": [
    {
     "name": "stdout",
     "output_type": "stream",
     "text": [
      "     lane  car_id    time  place   speed\n",
      "224     3      12  4.4073      3  189.51\n",
      "225     4      11  7.9716      4  104.78\n",
      "226     2      14  3.6264      1  230.32\n",
      "227     3      13  4.3508      2  191.97\n",
      "228     4      12  4.4751      3  186.64\n",
      "229     5      11  7.5197      4  111.07\n",
      "230     3      14  3.6288      1  230.17\n",
      "231     4      13  4.4979      3  185.69\n",
      "232     5      12  4.4093      2  189.42\n",
      "233     6      11  7.9874      4  104.57\n"
     ]
    }
   ],
   "source": [
    "print(lanes_df.tail(10))"
   ]
  },
  {
   "cell_type": "code",
   "execution_count": 11,
   "metadata": {},
   "outputs": [
    {
     "data": {
      "text/plain": [
       "lane        1.0000\n",
       "car_id     31.0000\n",
       "time        3.5738\n",
       "place       1.0000\n",
       "speed     233.7100\n",
       "Name: 174, dtype: float64"
      ]
     },
     "execution_count": 11,
     "metadata": {},
     "output_type": "execute_result"
    }
   ],
   "source": [
    "# which car had the fatest time?\n",
    "lanes_df.loc[lanes_df[\"time\"].idxmin()]"
   ]
  },
  {
   "cell_type": "code",
   "execution_count": 12,
   "metadata": {},
   "outputs": [
    {
     "name": "stdout",
     "output_type": "stream",
     "text": [
      "23.0805\n",
      "23.0805\n"
     ]
    }
   ],
   "source": [
    "# who had the lowest combined time?\n",
    "\n",
    "# get a specific racers combined time\n",
    "print(lanes_df.loc[lanes_df['car_id'] == 27, 'time'].sum())\n",
    "print(race_df.loc[race_df['last_name'] == \"Colinsky\", \"time\"].sum())"
   ]
  },
  {
   "cell_type": "code",
   "execution_count": 13,
   "metadata": {},
   "outputs": [
    {
     "name": "stdout",
     "output_type": "stream",
     "text": [
      "car_id\n",
      "31    18.0255\n",
      "14    18.0865\n",
      "36    18.1185\n",
      "43    18.1311\n",
      "37    18.1867\n",
      "Name: time, dtype: float64\n",
      "31\n",
      "18.025499999999997\n"
     ]
    }
   ],
   "source": [
    "# get all racers combined times\n",
    "def tally(values):\n",
    "    return values.sum()-values.max()\n",
    "\n",
    "adjustedCombined_df = lanes_df.groupby(['car_id'])['time'].apply(tally)\n",
    "sorted_df = adjustedCombined_df.sort_values()\n",
    "print(sorted_df.head())\n",
    "\n",
    "print(sorted_df.idxmin())\n",
    "print(sorted_df.min())"
   ]
  },
  {
   "cell_type": "code",
   "execution_count": 14,
   "metadata": {},
   "outputs": [
    {
     "name": "stdout",
     "output_type": "stream",
     "text": [
      "original racer series\n",
      "None\n",
      "1     4.6662\n",
      "10    4.2368\n",
      "12    7.8335\n",
      "21    4.1919\n",
      "32    4.2575\n",
      "41    4.5941\n",
      "Name: time, dtype: float64\n",
      "\n",
      "corrected racer series\n",
      "1     4.6662\n",
      "10    4.2368\n",
      "12    4.3893\n",
      "21    4.1919\n",
      "32    4.2575\n",
      "41    4.5941\n",
      "Name: time, dtype: float64\n",
      "\n"
     ]
    }
   ],
   "source": [
    "# what is the fatest lane\n",
    "import matplotlib.pyplot as plt\n",
    "pd.set_option('mode.chained_assignment', None)\n",
    "\n",
    "# remove outlier racer\n",
    "times_df = race_df[race_df.car_id != 11]\n",
    "\n",
    "# fix single outlier time for a racer\n",
    "print(print(\"original racer series\"))\n",
    "print(times_df.loc[(times_df.car_id==40)]['time'], end='\\n\\n')\n",
    "rowToFix = times_df.loc[times_df.car_id==40]['time'].idxmax()\n",
    "goodRows = pd.DataFrame(times_df.loc[times_df.car_id==40]).drop(rowToFix)\n",
    "newVal = goodRows['time'].sum()/len(goodRows['time'])\n",
    "times_df['time'][rowToFix] = newVal\n",
    "print(\"corrected racer series\\n\" + str(times_df.loc[(times_df.car_id==40)]['time']), end='\\n\\n')"
   ]
  },
  {
   "cell_type": "code",
   "execution_count": 20,
   "metadata": {},
   "outputs": [],
   "source": [
    "# get just the lanes and tims\n",
    "times_df = times_df[['lane','time']]\n",
    "\n",
    "lanes = pd.DataFrame()\n",
    "# plot distribution of times per lane\n",
    "#for l in range(7):\n",
    "#    if l == 0:\n",
    "#        continue\n",
    "#    else:\n",
    "#        lane = times_df[times_df.lane == l].reset_index().drop(['index','lane'], axis=1)\n",
    "#        column = 'lane' + str(l)\n",
    "#        lane.columns = [column]\n",
    "#        lanes[column] = lane\n",
    "\n",
    "#print(lanes, end='\\n\\n')\n",
    "#print(lanes.describe(), end='\\n\\n')\n",
    "\n",
    "# cumulative totals per lane\n",
    "#fastlane_df = lanes_df.groupby(['lane'])['time'].sum().sort_values()\n",
    "#print(fastlane_df)"
   ]
  },
  {
   "cell_type": "code",
   "execution_count": 16,
   "metadata": {},
   "outputs": [],
   "source": [
    "#lanes.plot(kind='hist', subplots=True, bins=50, range=(3.5,6), figsize=(10,16))\n",
    "#plt.show()"
   ]
  },
  {
   "cell_type": "code",
   "execution_count": 18,
   "metadata": {},
   "outputs": [],
   "source": [
    "#lanes.plot(kind='box', subplots=True, figsize=(16,6))\n",
    "#plt.show()"
   ]
  },
  {
   "cell_type": "code",
   "execution_count": null,
   "metadata": {},
   "outputs": [],
   "source": []
  }
 ],
 "metadata": {
  "kernelspec": {
   "display_name": "Python 3",
   "language": "python",
   "name": "python3"
  },
  "language_info": {
   "codemirror_mode": {
    "name": "ipython",
    "version": 3
   },
   "file_extension": ".py",
   "mimetype": "text/x-python",
   "name": "python",
   "nbconvert_exporter": "python",
   "pygments_lexer": "ipython3",
   "version": "3.7.1"
  }
 },
 "nbformat": 4,
 "nbformat_minor": 2
}
